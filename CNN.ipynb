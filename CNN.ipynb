{
  "cells": [
    {
      "cell_type": "markdown",
      "id": "0e988fdd",
      "metadata": {},
      "source": [
        "[![Open In Colab](https://colab.research.google.com/assets/colab-badge.svg)](https://colab.research.google.com/github//Madeira-International-Workshop-in-ML/2022_day_2/blob/main/CNN.ipynb)"
      ]
    },
    {
      "cell_type": "markdown",
      "id": "FBvFC_RQwaHC",
      "metadata": {
        "id": "FBvFC_RQwaHC"
      },
      "source": [
        "# Convolutional Neural Networks"
      ]
    },
    {
      "cell_type": "code",
      "execution_count": 1,
      "id": "v0m00eyFwaHE",
      "metadata": {
        "id": "v0m00eyFwaHE",
        "pycharm": {
          "name": "#%%\n"
        }
      },
      "outputs": [],
      "source": [
        "import numpy as np\n",
        "from scipy import signal\n",
        "import pandas as pd\n",
        "\n",
        "import tensorflow as tf\n",
        "from tensorflow.keras.utils import to_categorical\n",
        "from tensorflow.keras.layers import Input, Dense, Conv1D, BatchNormalization, MaxPooling1D, Activation, Flatten, Conv2D, MaxPool2D, Dropout\n",
        "\n",
        "from tensorflow.keras.models import Sequential\n",
        "\n",
        "import matplotlib.pyplot as plt\n",
        "import os\n",
        "import pickle\n",
        "\n",
        "import pydot \n",
        "import graphviz\n",
        "\n",
        "from sklearn.metrics import confusion_matrix"
      ]
    },
    {
      "cell_type": "markdown",
      "id": "T6hgFn1Kc-cu",
      "metadata": {
        "id": "T6hgFn1Kc-cu"
      },
      "source": [
        "# MNIST data loading \n"
      ]
    },
    {
      "cell_type": "code",
      "execution_count": 2,
      "id": "wIfiUTFTwaHF",
      "metadata": {
        "id": "wIfiUTFTwaHF",
        "pycharm": {
          "name": "#%%\n"
        }
      },
      "outputs": [],
      "source": [
        "# loading data\n",
        "#https://en.wikipedia.org/wiki/MNIST_database\n",
        "mnist = tf.keras.datasets.mnist\n",
        "(x_train, y_train),(x_test, y_test) = mnist.load_data()"
      ]
    },
    {
      "cell_type": "code",
      "execution_count": 3,
      "id": "-sGQHSDMwaHF",
      "metadata": {
        "id": "-sGQHSDMwaHF"
      },
      "outputs": [
        {
          "data": {
            "image/png": "[encoded data removed]",
            "text/plain": [
              "<Figure size 432x288 with 9 Axes>"
            ]
          },
          "metadata": {
            "needs_background": "light"
          },
          "output_type": "display_data"
        }
      ],
      "source": [
        "for i in range(9):\n",
        "\t# define subplot\n",
        "\tplt.subplot(330 + 1 + i)\n",
        "\t# plot raw pixel data\n",
        "\tplt.imshow(x_train[i], cmap=plt.get_cmap('gray'))\n",
        "# show the figure\n",
        "plt.show()"
      ]
    },
    {
      "cell_type": "code",
      "execution_count": 4,
      "id": "rJ3U1X3KwaHG",
      "metadata": {
        "id": "rJ3U1X3KwaHG"
      },
      "outputs": [
        {
          "data": {
            "image/png": "[encoded data removed]",
            "text/plain": [
              "<Figure size 432x288 with 1 Axes>"
            ]
          },
          "metadata": {
            "needs_background": "light"
          },
          "output_type": "display_data"
        },
        {
          "name": "stdout",
          "output_type": "stream",
          "text": [
            "5\n"
          ]
        }
      ],
      "source": [
        "# data view\n",
        "#https://matplotlib.org/stable/api/_as_gen/matplotlib.pyplot.imshow.html\n",
        "plt.imshow(x_train[5],cmap=plt.cm.gray)\n",
        "plt.show()\n",
        "print(y_train[0])"
      ]
    },
    {
      "cell_type": "code",
      "execution_count": 5,
      "id": "Qlkna2q9waHH",
      "metadata": {
        "id": "Qlkna2q9waHH"
      },
      "outputs": [
        {
          "data": {
            "text/plain": [
              "(60000, 28, 28)"
            ]
          },
          "execution_count": 5,
          "metadata": {},
          "output_type": "execute_result"
        }
      ],
      "source": [
        "# train data \n",
        "x_train.shape"
      ]
    },
    {
      "cell_type": "code",
      "execution_count": 6,
      "id": "XJ3jUdeIwaHH",
      "metadata": {
        "id": "XJ3jUdeIwaHH"
      },
      "outputs": [
        {
          "data": {
            "text/plain": [
              "(10000, 28, 28)"
            ]
          },
          "execution_count": 6,
          "metadata": {},
          "output_type": "execute_result"
        }
      ],
      "source": [
        "# test data \n",
        "x_test.shape"
      ]
    },
    {
      "cell_type": "markdown",
      "id": "T6O1URsydNPM",
      "metadata": {
        "id": "T6O1URsydNPM"
      },
      "source": [
        "# Convolutional Operation"
      ]
    },
    {
      "cell_type": "code",
      "execution_count": 7,
      "id": "hZpH30PzwaHI",
      "metadata": {
        "id": "hZpH30PzwaHI"
      },
      "outputs": [
        {
          "data": {
            "image/png": "[encoded data removed]",
            "text/plain": [
              "<Figure size 432x288 with 1 Axes>"
            ]
          },
          "metadata": {
            "needs_background": "light"
          },
          "output_type": "display_data"
        },
        {
          "data": {
            "image/png": "[encoded data removed]",
            "text/plain": [
              "<Figure size 432x288 with 1 Axes>"
            ]
          },
          "metadata": {
            "needs_background": "light"
          },
          "output_type": "display_data"
        },
        {
          "data": {
            "image/png": "[encoded data removed]",
            "text/plain": [
              "<Figure size 432x288 with 1 Axes>"
            ]
          },
          "metadata": {
            "needs_background": "light"
          },
          "output_type": "display_data"
        },
        {
          "data": {
            "image/png": "[encoded data removed]",
            "text/plain": [
              "<Figure size 432x288 with 1 Axes>"
            ]
          },
          "metadata": {
            "needs_background": "light"
          },
          "output_type": "display_data"
        }
      ],
      "source": [
        "#https://numpy.org/doc/stable/reference/generated/numpy.convolve.html\n",
        "sig =x_train[5]\n",
        "#sig=np.where(sig>0, 1,sig)\n",
        "plt.imshow(sig,cmap=plt.cm.gray)\n",
        "plt.show()\n",
        "\n",
        "win =np.array([[0., 0., 0.],[0, 1, 0],[0., 0., 0.]])\n",
        "plt.imshow(win,cmap=plt.cm.gray)\n",
        "plt.show()\n",
        "\n",
        "filtered = signal.convolve(sig, win, mode='same')\n",
        "for i in range(0,5):\n",
        "    filtered = signal.convolve(filtered, win, mode='same')\n",
        "filtered=np.where(filtered<0, 0,filtered)\n",
        "plt.imshow(filtered,cmap=plt.cm.gray)\n",
        "plt.show()\n",
        "\n",
        "change=filtered-sig\n",
        "#https://numpy.org/doc/stable/reference/generated/numpy.where.html\n",
        "change=np.where(change<0, 0,change)\n",
        "plt.imshow(change,cmap=plt.cm.binary)\n",
        "plt.show()\n",
        "#change"
      ]
    },
    {
      "cell_type": "code",
      "execution_count": 8,
      "id": "2m0m6ObGwaHI",
      "metadata": {
        "id": "2m0m6ObGwaHI"
      },
      "outputs": [
        {
          "data": {
            "image/png": "[encoded data removed]",
            "text/plain": [
              "<Figure size 432x288 with 1 Axes>"
            ]
          },
          "metadata": {
            "needs_background": "light"
          },
          "output_type": "display_data"
        },
        {
          "data": {
            "image/png": "[encoded data removed]",
            "text/plain": [
              "<Figure size 432x288 with 1 Axes>"
            ]
          },
          "metadata": {
            "needs_background": "light"
          },
          "output_type": "display_data"
        },
        {
          "data": {
            "image/png": "[encoded data removed]",
            "text/plain": [
              "<Figure size 432x288 with 1 Axes>"
            ]
          },
          "metadata": {
            "needs_background": "light"
          },
          "output_type": "display_data"
        },
        {
          "data": {
            "image/png": "[encoded data removed]",
            "text/plain": [
              "<Figure size 432x288 with 1 Axes>"
            ]
          },
          "metadata": {
            "needs_background": "light"
          },
          "output_type": "display_data"
        }
      ],
      "source": [
        "#https://numpy.org/doc/stable/reference/generated/numpy.convolve.html\n",
        "sig =x_train[5]\n",
        "#sig=np.where(sig>0, 1,sig)\n",
        "plt.imshow(sig,cmap=plt.cm.gray)\n",
        "plt.show()\n",
        "\n",
        "win =np.array([[0., 0., 0.],[0, 0, 1],[0., 0., 0.]])\n",
        "plt.imshow(win,cmap=plt.cm.gray)\n",
        "plt.show()\n",
        "\n",
        "filtered = signal.convolve(sig, win, mode='same')\n",
        "for i in range(0,5):\n",
        "     filtered = signal.convolve(filtered, win, mode='same')\n",
        "filtered=np.where(filtered<0, 0,filtered)\n",
        "plt.imshow(filtered,cmap=plt.cm.gray)\n",
        "plt.show()\n",
        "\n",
        "change=filtered-sig\n",
        "#https://numpy.org/doc/stable/reference/generated/numpy.where.html\n",
        "change=np.where(change<0, 0,change)\n",
        "plt.imshow(change,cmap=plt.cm.binary)\n",
        "plt.show()\n",
        "#change"
      ]
    },
    {
      "cell_type": "code",
      "execution_count": 9,
      "id": "RjJKvHIfwaHJ",
      "metadata": {
        "id": "RjJKvHIfwaHJ"
      },
      "outputs": [
        {
          "data": {
            "image/png": "[encoded data removed]",
            "text/plain": [
              "<Figure size 432x288 with 1 Axes>"
            ]
          },
          "metadata": {
            "needs_background": "light"
          },
          "output_type": "display_data"
        },
        {
          "data": {
            "image/png": "[encoded data removed]",
            "text/plain": [
              "<Figure size 432x288 with 1 Axes>"
            ]
          },
          "metadata": {
            "needs_background": "light"
          },
          "output_type": "display_data"
        },
        {
          "data": {
            "image/png": "[encoded data removed]",
            "text/plain": [
              "<Figure size 432x288 with 1 Axes>"
            ]
          },
          "metadata": {
            "needs_background": "light"
          },
          "output_type": "display_data"
        },
        {
          "data": {
            "image/png": "[encoded data removed]",
            "text/plain": [
              "<Figure size 432x288 with 1 Axes>"
            ]
          },
          "metadata": {
            "needs_background": "light"
          },
          "output_type": "display_data"
        }
      ],
      "source": [
        "#https://numpy.org/doc/stable/reference/generated/numpy.convolve.html\n",
        "sig =x_train[5]\n",
        "#sig=np.where(sig>0, 1,sig)\n",
        "plt.imshow(sig,cmap=plt.cm.gray)\n",
        "plt.show()\n",
        "\n",
        "win =np.array([[0., 1., 0.],[0, 0, 0],[0., 0., 0.]])\n",
        "plt.imshow(win,cmap=plt.cm.gray)\n",
        "plt.show()\n",
        "\n",
        "filtered = signal.convolve(sig, win, mode='same')\n",
        "for i in range(0,5):\n",
        "     filtered = signal.convolve(filtered, win, mode='same')\n",
        "filtered=np.where(filtered<0, 0,filtered)\n",
        "plt.imshow(filtered,cmap=plt.cm.gray)\n",
        "plt.show()\n",
        "\n",
        "change=filtered-sig\n",
        "#https://numpy.org/doc/stable/reference/generated/numpy.where.html\n",
        "change=np.where(change<0, 0,change)\n",
        "plt.imshow(change,cmap=plt.cm.binary)\n",
        "plt.show()\n",
        "#change"
      ]
    },
    {
      "cell_type": "code",
      "execution_count": 10,
      "id": "MmjLLOmVwaHJ",
      "metadata": {
        "id": "MmjLLOmVwaHJ"
      },
      "outputs": [
        {
          "data": {
            "image/png": "[encoded data removed]",
            "text/plain": [
              "<Figure size 432x288 with 1 Axes>"
            ]
          },
          "metadata": {
            "needs_background": "light"
          },
          "output_type": "display_data"
        },
        {
          "data": {
            "image/png": "[encoded data removed]",
            "text/plain": [
              "<Figure size 432x288 with 1 Axes>"
            ]
          },
          "metadata": {
            "needs_background": "light"
          },
          "output_type": "display_data"
        },
        {
          "data": {
            "image/png": "[encoded data removed]",
            "text/plain": [
              "<Figure size 432x288 with 1 Axes>"
            ]
          },
          "metadata": {
            "needs_background": "light"
          },
          "output_type": "display_data"
        },
        {
          "data": {
            "image/png": "[encoded data removed]",
            "text/plain": [
              "<Figure size 432x288 with 1 Axes>"
            ]
          },
          "metadata": {
            "needs_background": "light"
          },
          "output_type": "display_data"
        }
      ],
      "source": [
        "#https://numpy.org/doc/stable/reference/generated/numpy.convolve.html\n",
        "sig =x_train[10]\n",
        "#sig=np.where(sig>0, 1,sig)\n",
        "plt.imshow(sig,cmap=plt.cm.gray)\n",
        "plt.show()\n",
        "\n",
        "win =np.array([[-1., -1., -1.],[-1., 8., -1.],[-1., -1., -1.]])\n",
        "plt.imshow(win,cmap=plt.cm.gray)\n",
        "plt.show()\n",
        "\n",
        "filtered = signal.convolve(sig, win, mode='same')\n",
        "# for i in range(0,2):\n",
        "#     filtered = signal.convolve(filtered, win, mode='same')\n",
        "filtered=np.where(filtered<0, 0,filtered)\n",
        "plt.imshow(filtered,cmap=plt.cm.gray)\n",
        "plt.show()\n",
        "\n",
        "change=filtered-sig\n",
        "#https://numpy.org/doc/stable/reference/generated/numpy.where.html\n",
        "change=np.where(change<0, 0,change)\n",
        "plt.imshow(change,cmap=plt.cm.binary)\n",
        "plt.show()\n",
        "#change"
      ]
    },
    {
      "cell_type": "markdown",
      "id": "auvzjXwewaHL",
      "metadata": {
        "id": "auvzjXwewaHL"
      },
      "source": [
        "outputs is Shrinking \n",
        "Loosing information on corners of the image"
      ]
    },
    {
      "cell_type": "markdown",
      "id": "z5UQ_3LuwaHL",
      "metadata": {
        "id": "z5UQ_3LuwaHL"
      },
      "source": [
        "Second method: (((W - K + 2P)/S) + 1)\n",
        "        Here W = Input size\n",
        "        K = Filter size\n",
        "        S = Stride\n",
        "        P = Padding \n",
        "\n",
        "        inpput_size - (filter_size - 1)"
      ]
    },
    {
      "cell_type": "markdown",
      "id": "VzH1032edowP",
      "metadata": {
        "id": "VzH1032edowP"
      },
      "source": [
        "# Data pre-process"
      ]
    },
    {
      "cell_type": "code",
      "execution_count": 11,
      "id": "moONINBowaHL",
      "metadata": {
        "id": "moONINBowaHL"
      },
      "outputs": [],
      "source": [
        "x_train = x_train.astype('float32') / 255.0\n",
        "x_test = x_test.astype('float32') / 255.0"
      ]
    },
    {
      "cell_type": "code",
      "execution_count": 12,
      "id": "0kbO4UHrwaHL",
      "metadata": {
        "id": "0kbO4UHrwaHL"
      },
      "outputs": [],
      "source": [
        "x_train = x_train.reshape(-1, 28, 28, 1)\n",
        "x_test = x_test.reshape(-1, 28, 28, 1)\n",
        "#-1 means that the length in that dimension is inferred."
      ]
    },
    {
      "cell_type": "code",
      "execution_count": 13,
      "id": "7YQstIkuwaHL",
      "metadata": {
        "id": "7YQstIkuwaHL"
      },
      "outputs": [
        {
          "data": {
            "text/plain": [
              "(60000, 28, 28, 1)"
            ]
          },
          "execution_count": 13,
          "metadata": {},
          "output_type": "execute_result"
        }
      ],
      "source": [
        "x_train.shape"
      ]
    },
    {
      "cell_type": "code",
      "execution_count": 14,
      "id": "h4oPrTfgwaHM",
      "metadata": {
        "id": "h4oPrTfgwaHM"
      },
      "outputs": [],
      "source": [
        "y_train_cat = to_categorical(y_train, 10)\n",
        "y_test_cat = to_categorical(y_test, 10)"
      ]
    },
    {
      "cell_type": "code",
      "execution_count": 15,
      "id": "I_JZLQqowaHM",
      "metadata": {
        "id": "I_JZLQqowaHM"
      },
      "outputs": [
        {
          "data": {
            "text/plain": [
              "(60000, 10)"
            ]
          },
          "execution_count": 15,
          "metadata": {},
          "output_type": "execute_result"
        }
      ],
      "source": [
        "y_train_cat.shape"
      ]
    },
    {
      "cell_type": "code",
      "execution_count": 16,
      "id": "r_MkoQvtwaHM",
      "metadata": {
        "id": "r_MkoQvtwaHM"
      },
      "outputs": [
        {
          "data": {
            "text/plain": [
              "10"
            ]
          },
          "execution_count": 16,
          "metadata": {},
          "output_type": "execute_result"
        }
      ],
      "source": [
        "len(np.unique(y_train))"
      ]
    },
    {
      "cell_type": "markdown",
      "id": "hDmPFaMNehL-",
      "metadata": {
        "id": "hDmPFaMNehL-"
      },
      "source": [
        "# Create a Sequential Model"
      ]
    },
    {
      "cell_type": "code",
      "execution_count": 113,
      "id": "1yZAS72twaHN",
      "metadata": {
        "id": "1yZAS72twaHN"
      },
      "outputs": [],
      "source": [
        "model_sq = Sequential()\n",
        "\n",
        "model_sq.add(Input(shape=(28, 28, 1)))\n",
        "model_sq.add(Conv2D(32, (3, 3), activation='relu'))\n",
        "#model_sq.add(Dropout(0.5))\n",
        "\n",
        "#model_sq.add(Conv2D(32, (3, 3), activation='relu', input_shape=(28, 28, 1)))\n",
        "model_sq.add(MaxPool2D(pool_size=(2, 2)))\n",
        "\n",
        "model_sq.add(Conv2D(64, (3, 3), activation='relu'))\n",
        "model_sq.add(MaxPool2D(pool_size=(2, 2)))\n",
        "\n"
      ]
    },
    {
      "cell_type": "code",
      "execution_count": 114,
      "id": "74fcef82",
      "metadata": {},
      "outputs": [],
      "source": [
        "model_sq.add(Flatten())\n",
        "model_sq.add(Dense(128, activation='relu'))\n",
        "model_sq.add(Dropout(0.5))\n",
        "model_sq.add(Dense(10, activation='softmax'))\n",
        "\n"
      ]
    },
    {
      "cell_type": "code",
      "execution_count": 115,
      "id": "4bbfed35",
      "metadata": {},
      "outputs": [],
      "source": [
        "model_sq.compile(loss='categorical_crossentropy',\n",
        "              optimizer='adam',\n",
        "              metrics=['accuracy'])"
      ]
    },
    {
      "cell_type": "markdown",
      "id": "vTsH8I1rwaHN",
      "metadata": {
        "id": "vTsH8I1rwaHN"
      },
      "source": [
        "What we ceated"
      ]
    },
    {
      "cell_type": "code",
      "execution_count": 116,
      "id": "t_noW3hEwaHN",
      "metadata": {
        "id": "t_noW3hEwaHN"
      },
      "outputs": [
        {
          "name": "stdout",
          "output_type": "stream",
          "text": [
            "Model: \"sequential_9\"\n",
            "_________________________________________________________________\n",
            " Layer (type)                Output Shape              Param #   \n",
            "=================================================================\n",
            " conv2d_9 (Conv2D)           (None, 26, 26, 32)        320       \n",
            "                                                                 \n",
            " max_pooling2d_8 (MaxPooling  (None, 13, 13, 32)       0         \n",
            " 2D)                                                             \n",
            "                                                                 \n",
            " conv2d_10 (Conv2D)          (None, 11, 11, 64)        18496     \n",
            "                                                                 \n",
            " max_pooling2d_9 (MaxPooling  (None, 5, 5, 64)         0         \n",
            " 2D)                                                             \n",
            "                                                                 \n",
            " flatten_7 (Flatten)         (None, 1600)              0         \n",
            "                                                                 \n",
            " dense_14 (Dense)            (None, 128)               204928    \n",
            "                                                                 \n",
            " dropout_3 (Dropout)         (None, 128)               0         \n",
            "                                                                 \n",
            " dense_15 (Dense)            (None, 10)                1290      \n",
            "                                                                 \n",
            "=================================================================\n",
            "Total params: 225,034\n",
            "Trainable params: 225,034\n",
            "Non-trainable params: 0\n",
            "_________________________________________________________________\n"
          ]
        }
      ],
      "source": [
        "model_sq.summary()"
      ]
    },
    {
      "cell_type": "code",
      "execution_count": 117,
      "id": "57525711",
      "metadata": {},
      "outputs": [
        {
          "data": {
            "text/plain": [
              "<keras.layers.pooling.max_pooling2d.MaxPooling2D at 0x203bd8d2f70>"
            ]
          },
          "execution_count": 117,
          "metadata": {},
          "output_type": "execute_result"
        }
      ],
      "source": [
        "model_sq.layers[3]"
      ]
    },
    {
      "cell_type": "code",
      "execution_count": 118,
      "id": "zwWvzxc5waHN",
      "metadata": {
        "id": "zwWvzxc5waHN"
      },
      "outputs": [
        {
          "name": "stdout",
          "output_type": "stream",
          "text": [
            "You must install pydot (`pip install pydot`) and install graphviz (see instructions at https://graphviz.gitlab.io/download/) for plot_model/model_to_dot to work.\n"
          ]
        }
      ],
      "source": [
        "\n",
        "tf.keras.utils.plot_model(model_sq, \"my_first_model.png\")"
      ]
    },
    {
      "cell_type": "code",
      "execution_count": 165,
      "id": "E2ynCvc7waHN",
      "metadata": {
        "id": "E2ynCvc7waHN"
      },
      "outputs": [],
      "source": [
        "#Train the model.model"
      ]
    },
    {
      "cell_type": "code",
      "execution_count": 119,
      "id": "gbbOydQ9waHN",
      "metadata": {
        "id": "gbbOydQ9waHN"
      },
      "outputs": [
        {
          "name": "stdout",
          "output_type": "stream",
          "text": [
            "Epoch 1/5\n",
            "657/657 [==============================] - 28s 36ms/step - loss: 0.3141 - accuracy: 0.9038 - val_loss: 0.0763 - val_accuracy: 0.9765\n",
            "Epoch 2/5\n",
            "657/657 [==============================] - 22s 33ms/step - loss: 0.1035 - accuracy: 0.9696 - val_loss: 0.0572 - val_accuracy: 0.9831\n",
            "Epoch 3/5\n",
            "657/657 [==============================] - 17s 26ms/step - loss: 0.0755 - accuracy: 0.9783 - val_loss: 0.0461 - val_accuracy: 0.9864\n",
            "Epoch 4/5\n",
            "657/657 [==============================] - 22s 33ms/step - loss: 0.0617 - accuracy: 0.9813 - val_loss: 0.0532 - val_accuracy: 0.9847\n",
            "Epoch 5/5\n",
            "657/657 [==============================] - 24s 36ms/step - loss: 0.0526 - accuracy: 0.9845 - val_loss: 0.0401 - val_accuracy: 0.9881\n"
          ]
        }
      ],
      "source": [
        "model_sq_history = model_sq.fit(x_train, y_train_cat, batch_size=64,\n",
        "          epochs=5, verbose=1, validation_split=0.3)"
      ]
    },
    {
      "cell_type": "code",
      "execution_count": 23,
      "id": "ZsTlYxYIwaHO",
      "metadata": {
        "id": "ZsTlYxYIwaHO"
      },
      "outputs": [
        {
          "name": "stdout",
          "output_type": "stream",
          "text": [
            "313/313 [==============================] - 2s 5ms/step - loss: 0.0299 - accuracy: 0.9894\n",
            "0.9894000291824341\n"
          ]
        },
        {
          "data": {
            "image/png": "[encoded data removed]",
            "text/plain": [
              "<Figure size 432x288 with 1 Axes>"
            ]
          },
          "metadata": {
            "needs_background": "light"
          },
          "output_type": "display_data"
        }
      ],
      "source": [
        "plt.plot(model_sq_history.history['accuracy'], label='accuracy')\n",
        "plt.plot(model_sq_history.history['val_accuracy'], label = 'val_accuracy')\n",
        "plt.xlabel('Epoch')\n",
        "plt.ylabel('Accuracy')\n",
        "plt.ylim([0.9, 1])\n",
        "plt.legend(loc='lower right')\n",
        "\n",
        "test_loss, test_acc = model_sq.evaluate(x_test,  y_test_cat)\n",
        "print(test_acc)"
      ]
    },
    {
      "cell_type": "code",
      "execution_count": 24,
      "id": "hULcasuwwaHO",
      "metadata": {
        "id": "hULcasuwwaHO"
      },
      "outputs": [
        {
          "name": "stdout",
          "output_type": "stream",
          "text": [
            "313/313 [==============================] - 1s 4ms/step\n"
          ]
        }
      ],
      "source": [
        "y_pred = model_sq.predict(x_test)"
      ]
    },
    {
      "cell_type": "code",
      "execution_count": 25,
      "id": "RYEF7DRUwaHO",
      "metadata": {
        "id": "RYEF7DRUwaHO"
      },
      "outputs": [
        {
          "name": "stdout",
          "output_type": "stream",
          "text": [
            "[[2.25194929e-09 6.19371150e-08 5.77153924e-06 ... 9.99993086e-01\n",
            "  2.89105251e-09 1.79950234e-07]\n",
            " [1.13618817e-05 2.13438443e-06 9.99986410e-01 ... 3.16524099e-11\n",
            "  3.24991376e-08 5.57090073e-13]\n",
            " [7.25655980e-10 9.99998331e-01 1.39556535e-08 ... 2.16803940e-07\n",
            "  4.33135057e-08 6.16900198e-10]\n",
            " ...\n",
            " [5.14654042e-15 1.19521296e-10 1.39122939e-13 ... 2.25777827e-10\n",
            "  1.01032960e-08 8.42327930e-10]\n",
            " [1.19259547e-10 1.20215426e-12 6.33855490e-14 ... 1.00106465e-10\n",
            "  6.52557501e-05 1.53082436e-09]\n",
            " [3.14985127e-09 5.30397844e-11 3.30012817e-09 ... 6.05001202e-15\n",
            "  7.47080531e-09 1.72629359e-11]]\n"
          ]
        }
      ],
      "source": [
        "print(y_pred)"
      ]
    },
    {
      "cell_type": "code",
      "execution_count": 26,
      "id": "duw0dyodwaHO",
      "metadata": {
        "id": "duw0dyodwaHO"
      },
      "outputs": [
        {
          "name": "stdout",
          "output_type": "stream",
          "text": [
            "[7 2 1 ... 4 5 6]\n"
          ]
        }
      ],
      "source": [
        "y_pred_number=np.argmax(y_pred,axis=1)\n",
        "print(y_pred_number)"
      ]
    },
    {
      "cell_type": "code",
      "execution_count": 27,
      "id": "KnC_ypmAwaHO",
      "metadata": {
        "id": "KnC_ypmAwaHO"
      },
      "outputs": [],
      "source": [
        "from sklearn.metrics import confusion_matrix\n",
        "cf_matrix = confusion_matrix(np.argmax(y_test_cat,axis=1), np.argmax(y_pred,axis=1))"
      ]
    },
    {
      "cell_type": "code",
      "execution_count": 28,
      "id": "LfVXYF9LwaHP",
      "metadata": {
        "id": "LfVXYF9LwaHP"
      },
      "outputs": [
        {
          "name": "stdout",
          "output_type": "stream",
          "text": [
            "[[ 975    0    0    0    0    0    3    1    1    0]\n",
            " [   0 1130    2    1    0    1    1    0    0    0]\n",
            " [   3    0 1025    0    2    0    0    2    0    0]\n",
            " [   0    0    3 1003    0    1    0    2    1    0]\n",
            " [   0    0    0    0  979    0    0    0    0    3]\n",
            " [   2    0    1    5    0  880    2    1    1    0]\n",
            " [   2    2    0    0    2    2  950    0    0    0]\n",
            " [   0    3    6    3    0    0    0 1014    1    1]\n",
            " [   4    1    2    1    1    0    1    3  959    2]\n",
            " [   2    3    0    2    3    8    0    7    5  979]]\n"
          ]
        }
      ],
      "source": [
        "print(cf_matrix)"
      ]
    },
    {
      "cell_type": "markdown",
      "id": "4503e721",
      "metadata": {},
      "source": [
        " CIFAR10 dataset\n"
      ]
    },
    {
      "cell_type": "code",
      "execution_count": 29,
      "id": "745cc795",
      "metadata": {},
      "outputs": [],
      "source": [
        "(train_images, train_labels), (test_images, test_labels) = tf.keras.datasets.cifar10.load_data()\n"
      ]
    },
    {
      "cell_type": "code",
      "execution_count": 30,
      "id": "2b524bc1",
      "metadata": {},
      "outputs": [
        {
          "data": {
            "image/png": "[encoded data removed]",
            "text/plain": [
              "<Figure size 432x288 with 9 Axes>"
            ]
          },
          "metadata": {
            "needs_background": "light"
          },
          "output_type": "display_data"
        }
      ],
      "source": [
        "\n",
        "\n",
        "for i in range(9):\n",
        "\t# define subplot\n",
        "    plt.subplot(330 + 1 + i)\n",
        "\t# plot raw pixel data\n",
        "    plt.imshow(train_images[i])\n",
        "# show the figure\n",
        "plt.show()\n",
        "\n"
      ]
    },
    {
      "cell_type": "code",
      "execution_count": 32,
      "id": "7c5d31ec",
      "metadata": {},
      "outputs": [],
      "source": [
        "y_train_labels_cat = to_categorical(train_labels, 10)\n",
        "y_test_labels_cat = to_categorical(test_labels, 10)"
      ]
    },
    {
      "cell_type": "code",
      "execution_count": 33,
      "id": "79aef4f5",
      "metadata": {},
      "outputs": [],
      "source": [
        "# Normalize pixel values to be between 0 and 1\n",
        "train_images, test_images = train_images / 255.0, test_images / 255.0\n"
      ]
    },
    {
      "cell_type": "code",
      "execution_count": 34,
      "id": "995ea78b",
      "metadata": {},
      "outputs": [
        {
          "data": {
            "text/plain": [
              "(50000, 32, 32, 3)"
            ]
          },
          "execution_count": 34,
          "metadata": {},
          "output_type": "execute_result"
        }
      ],
      "source": [
        "train_images.shape"
      ]
    },
    {
      "cell_type": "code",
      "execution_count": 35,
      "id": "33d97793",
      "metadata": {},
      "outputs": [],
      "source": [
        "model_sq3 = Sequential()\n",
        "model_sq3.add(Conv2D(32, (3, 3), activation='relu', input_shape=(32, 32, 3)))\n",
        "model_sq3.add(MaxPool2D ((2, 2)))\n",
        "model_sq3.add(Conv2D(64, (3, 3), activation='relu'))\n",
        "model_sq3.add(MaxPool2D ((2, 2)))\n",
        "model_sq3.add(Conv2D(64, (3, 3), activation='relu'))\n"
      ]
    },
    {
      "cell_type": "code",
      "execution_count": 36,
      "id": "12f6a5fe",
      "metadata": {},
      "outputs": [],
      "source": [
        "model_sq3.add(Flatten())\n",
        "model_sq3.add(Dense(64, activation='relu'))\n",
        "model_sq3.add(Dense(10, activation='softmax'))\n"
      ]
    },
    {
      "cell_type": "markdown",
      "id": "59f38d48",
      "metadata": {},
      "source": [
        "Compile and train the model"
      ]
    },
    {
      "cell_type": "code",
      "execution_count": 37,
      "id": "f326bd5f",
      "metadata": {},
      "outputs": [
        {
          "name": "stdout",
          "output_type": "stream",
          "text": [
            "Epoch 1/5\n",
            "547/547 [==============================] - 26s 46ms/step - loss: 1.6362 - accuracy: 0.4024 - val_loss: 1.3993 - val_accuracy: 0.4927\n",
            "Epoch 2/5\n",
            "547/547 [==============================] - 19s 36ms/step - loss: 1.2603 - accuracy: 0.5495 - val_loss: 1.2008 - val_accuracy: 0.5753\n",
            "Epoch 3/5\n",
            "547/547 [==============================] - 18s 33ms/step - loss: 1.1107 - accuracy: 0.6082 - val_loss: 1.0945 - val_accuracy: 0.6177\n",
            "Epoch 4/5\n",
            "547/547 [==============================] - 19s 35ms/step - loss: 1.0056 - accuracy: 0.6477 - val_loss: 1.0213 - val_accuracy: 0.6487\n",
            "Epoch 5/5\n",
            "547/547 [==============================] - 26s 47ms/step - loss: 0.9231 - accuracy: 0.6765 - val_loss: 0.9839 - val_accuracy: 0.6624\n"
          ]
        }
      ],
      "source": [
        "model_sq3.compile(loss='categorical_crossentropy',#'categorical_crossentropy',\n",
        "              optimizer='adam',\n",
        "              metrics=['accuracy'])\n",
        "\n",
        "model_sq3_history = model_sq3.fit(train_images,y_train_labels_cat , batch_size=64,\n",
        "          epochs=5, verbose=1, validation_split=0.3)"
      ]
    },
    {
      "cell_type": "code",
      "execution_count": 38,
      "id": "2f09cb99",
      "metadata": {},
      "outputs": [
        {
          "name": "stdout",
          "output_type": "stream",
          "text": [
            "313/313 [==============================] - 2s 7ms/step - loss: 0.9659 - accuracy: 0.6644\n",
            "0.6643999814987183\n"
          ]
        },
        {
          "data": {
            "image/png": "[encoded data removed]",
            "text/plain": [
              "<Figure size 432x288 with 1 Axes>"
            ]
          },
          "metadata": {
            "needs_background": "light"
          },
          "output_type": "display_data"
        }
      ],
      "source": [
        "plt.plot(model_sq3_history.history['accuracy'], label='accuracy')\n",
        "plt.plot(model_sq3_history.history['val_accuracy'], label = 'val_accuracy')\n",
        "plt.xlabel('Epoch')\n",
        "plt.ylabel('Accuracy')\n",
        "plt.ylim([0.009, 1])\n",
        "plt.legend(loc='lower right')\n",
        "\n",
        "test_loss, test_acc = model_sq3.evaluate(test_images,  y_test_labels_cat)\n",
        "print(test_acc)"
      ]
    },
    {
      "cell_type": "code",
      "execution_count": null,
      "id": "cc345b47",
      "metadata": {},
      "outputs": [],
      "source": []
    },
    {
      "cell_type": "markdown",
      "id": "426d5ba4",
      "metadata": {},
      "source": [
        "Transfer learning"
      ]
    },
    {
      "cell_type": "code",
      "execution_count": 120,
      "id": "f8a25137",
      "metadata": {},
      "outputs": [
        {
          "data": {
            "text/plain": [
              "(50000, 32, 32, 3)"
            ]
          },
          "execution_count": 120,
          "metadata": {},
          "output_type": "execute_result"
        }
      ],
      "source": [
        "train_images.shape"
      ]
    },
    {
      "cell_type": "code",
      "execution_count": 121,
      "id": "f520c5ec",
      "metadata": {},
      "outputs": [
        {
          "data": {
            "text/plain": [
              "(50000, 32, 32, 3)"
            ]
          },
          "execution_count": 121,
          "metadata": {},
          "output_type": "execute_result"
        }
      ],
      "source": [
        "train_images.shape"
      ]
    },
    {
      "cell_type": "code",
      "execution_count": 122,
      "id": "97f39d15",
      "metadata": {},
      "outputs": [
        {
          "data": {
            "text/plain": [
              "TensorShape([50000, 32, 32, 1])"
            ]
          },
          "execution_count": 122,
          "metadata": {},
          "output_type": "execute_result"
        }
      ],
      "source": [
        "train_images_grayscaled = tf.image.rgb_to_grayscale(train_images)\n",
        "test_images_grayscaled = tf.image.rgb_to_grayscale(test_images)\n",
        "train_images_grayscaled.shape\n"
      ]
    },
    {
      "cell_type": "code",
      "execution_count": 125,
      "id": "46fb488d",
      "metadata": {},
      "outputs": [],
      "source": [
        "IMG_SIZE = 28\n",
        "\n",
        "resize_and_rescale = tf.keras.Sequential([\n",
        "  tf.keras.layers.Resizing(IMG_SIZE, IMG_SIZE),\n",
        "  tf.keras.layers .Rescaling(1./255)\n",
        "])\n",
        "train_images_resized_grayscaled = resize_and_rescale(train_images_grayscaled)\n",
        "test_images_resized_grayscaled = resize_and_rescale(test_images_grayscaled)"
      ]
    },
    {
      "cell_type": "code",
      "execution_count": 60,
      "id": "736b023d",
      "metadata": {},
      "outputs": [
        {
          "data": {
            "text/plain": [
              "TensorShape([50000, 28, 28, 1])"
            ]
          },
          "execution_count": 60,
          "metadata": {},
          "output_type": "execute_result"
        }
      ],
      "source": [
        "train_images_resized_grayscaled.shape"
      ]
    },
    {
      "cell_type": "code",
      "execution_count": 1,
      "id": "3caf8f04",
      "metadata": {},
      "outputs": [
        {
          "ename": "NameError",
          "evalue": "name 'plt' is not defined",
          "output_type": "error",
          "traceback": [
            "\u001b[1;31m---------------------------------------------------------------------------\u001b[0m",
            "\u001b[1;31mNameError\u001b[0m                                 Traceback (most recent call last)",
            "\u001b[1;32md:\\GitHub\\2022_day_2\\CNN.ipynb Cell 58\u001b[0m in \u001b[0;36m<cell line: 1>\u001b[1;34m()\u001b[0m\n\u001b[0;32m      <a href='vscode-notebook-cell:/d%3A/GitHub/2022_day_2/CNN.ipynb#ch0000057?line=0'>1</a>\u001b[0m \u001b[39mfor\u001b[39;00m i \u001b[39min\u001b[39;00m \u001b[39mrange\u001b[39m(\u001b[39m9\u001b[39m):\n\u001b[0;32m      <a href='vscode-notebook-cell:/d%3A/GitHub/2022_day_2/CNN.ipynb#ch0000057?line=1'>2</a>\u001b[0m \t\u001b[39m# define subplot\u001b[39;00m\n\u001b[1;32m----> <a href='vscode-notebook-cell:/d%3A/GitHub/2022_day_2/CNN.ipynb#ch0000057?line=2'>3</a>\u001b[0m     plt\u001b[39m.\u001b[39msubplot(\u001b[39m330\u001b[39m \u001b[39m+\u001b[39m \u001b[39m1\u001b[39m \u001b[39m+\u001b[39m i)\n\u001b[0;32m      <a href='vscode-notebook-cell:/d%3A/GitHub/2022_day_2/CNN.ipynb#ch0000057?line=3'>4</a>\u001b[0m \t\u001b[39m# plot raw pixel data\u001b[39;00m\n\u001b[0;32m      <a href='vscode-notebook-cell:/d%3A/GitHub/2022_day_2/CNN.ipynb#ch0000057?line=4'>5</a>\u001b[0m     plt\u001b[39m.\u001b[39mimshow(train_images_resized_grayscaled[i], cmap\u001b[39m=\u001b[39mplt\u001b[39m.\u001b[39mget_cmap(\u001b[39m'\u001b[39m\u001b[39mgray\u001b[39m\u001b[39m'\u001b[39m))\n",
            "\u001b[1;31mNameError\u001b[0m: name 'plt' is not defined"
          ]
        }
      ],
      "source": [
        "for i in range(9):\n",
        "\t# define subplot\n",
        "    plt.subplot(330 + 1 + i)\n",
        "\t# plot raw pixel data\n",
        "    plt.imshow(train_images_resized_grayscaled[i], cmap=plt.get_cmap('gray'))\n",
        "# show the figure\n",
        "plt.show()"
      ]
    },
    {
      "cell_type": "code",
      "execution_count": 127,
      "id": "f04de1ef",
      "metadata": {},
      "outputs": [
        {
          "data": {
            "text/plain": [
              "True"
            ]
          },
          "execution_count": 127,
          "metadata": {},
          "output_type": "execute_result"
        }
      ],
      "source": [
        "model_sq.layers[0].trainable"
      ]
    },
    {
      "cell_type": "code",
      "execution_count": 128,
      "id": "ed303521",
      "metadata": {},
      "outputs": [],
      "source": [
        "model_sq.layers[0].trainable=False"
      ]
    },
    {
      "cell_type": "code",
      "execution_count": 76,
      "id": "8c9a1ac8",
      "metadata": {},
      "outputs": [
        {
          "data": {
            "text/plain": [
              "False"
            ]
          },
          "execution_count": 76,
          "metadata": {},
          "output_type": "execute_result"
        }
      ],
      "source": [
        "model_sq.layers[0].trainable"
      ]
    },
    {
      "cell_type": "code",
      "execution_count": 107,
      "id": "8e18d943",
      "metadata": {},
      "outputs": [
        {
          "name": "stdout",
          "output_type": "stream",
          "text": [
            "Layer conv2d_7 frozen.\n",
            "Layer max_pooling2d_6 frozen.\n",
            "Layer conv2d_8 frozen.\n",
            "Layer max_pooling2d_7 frozen.\n"
          ]
        }
      ],
      "source": [
        "\n",
        "\n",
        "for layer_number in range (0,len(model_sq.layers)-4):\n",
        "    model_sq.layers[layer_number].trainable = False\n",
        "    print('Layer ' +  model_sq.layers[layer_number].name + ' frozen.')\n",
        "\n"
      ]
    },
    {
      "cell_type": "code",
      "execution_count": 108,
      "id": "99f6f89b",
      "metadata": {},
      "outputs": [
        {
          "name": "stdout",
          "output_type": "stream",
          "text": [
            "<keras.layers.pooling.max_pooling2d.MaxPooling2D object at 0x000002039E269D60>\n"
          ]
        }
      ],
      "source": [
        "print(model_sq.layers[-5])"
      ]
    },
    {
      "cell_type": "code",
      "execution_count": 129,
      "id": "d55c93d2",
      "metadata": {},
      "outputs": [],
      "source": [
        "\n",
        "flat1 = Flatten()(model_sq.layers[-5].output)\n",
        "class1 = Dense(124, activation='relu')(flat1)\n",
        "output = Dense(10, activation='softmax')(class1)\n",
        "# define new model\n",
        "model_transfer = tf.keras.Model(inputs=model_sq.inputs, outputs=output)"
      ]
    },
    {
      "cell_type": "code",
      "execution_count": 130,
      "id": "80d8e1d9",
      "metadata": {},
      "outputs": [],
      "source": [
        "model_transfer.compile(loss='categorical_crossentropy',\n",
        "              optimizer='adam',\n",
        "              metrics=['accuracy'])"
      ]
    },
    {
      "cell_type": "code",
      "execution_count": 131,
      "id": "cd92ed98",
      "metadata": {},
      "outputs": [
        {
          "name": "stdout",
          "output_type": "stream",
          "text": [
            "Model: \"model_3\"\n",
            "_________________________________________________________________\n",
            " Layer (type)                Output Shape              Param #   \n",
            "=================================================================\n",
            " input_4 (InputLayer)        [(None, 28, 28, 1)]       0         \n",
            "                                                                 \n",
            " conv2d_9 (Conv2D)           (None, 26, 26, 32)        320       \n",
            "                                                                 \n",
            " max_pooling2d_8 (MaxPooling  (None, 13, 13, 32)       0         \n",
            " 2D)                                                             \n",
            "                                                                 \n",
            " conv2d_10 (Conv2D)          (None, 11, 11, 64)        18496     \n",
            "                                                                 \n",
            " max_pooling2d_9 (MaxPooling  (None, 5, 5, 64)         0         \n",
            " 2D)                                                             \n",
            "                                                                 \n",
            " flatten_8 (Flatten)         (None, 1600)              0         \n",
            "                                                                 \n",
            " dense_16 (Dense)            (None, 124)               198524    \n",
            "                                                                 \n",
            " dense_17 (Dense)            (None, 10)                1250      \n",
            "                                                                 \n",
            "=================================================================\n",
            "Total params: 218,590\n",
            "Trainable params: 218,270\n",
            "Non-trainable params: 320\n",
            "_________________________________________________________________\n"
          ]
        }
      ],
      "source": [
        "model_transfer.summary()"
      ]
    },
    {
      "cell_type": "code",
      "execution_count": 132,
      "id": "96d7309e",
      "metadata": {},
      "outputs": [
        {
          "name": "stdout",
          "output_type": "stream",
          "text": [
            "Epoch 1/5\n",
            "547/547 [==============================] - 19s 26ms/step - loss: 2.3027 - accuracy: 0.0985 - val_loss: 2.3027 - val_accuracy: 0.0979\n",
            "Epoch 2/5\n",
            "547/547 [==============================] - 13s 23ms/step - loss: 2.3027 - accuracy: 0.0981 - val_loss: 2.3028 - val_accuracy: 0.0984\n",
            "Epoch 3/5\n",
            "547/547 [==============================] - 13s 23ms/step - loss: 2.3027 - accuracy: 0.1004 - val_loss: 2.3028 - val_accuracy: 0.0979\n",
            "Epoch 4/5\n",
            "547/547 [==============================] - 13s 24ms/step - loss: 2.3027 - accuracy: 0.0988 - val_loss: 2.3028 - val_accuracy: 0.0979\n",
            "Epoch 5/5\n",
            "547/547 [==============================] - 12s 22ms/step - loss: 2.3027 - accuracy: 0.1013 - val_loss: 2.3028 - val_accuracy: 0.0984\n"
          ]
        }
      ],
      "source": [
        "model_transfer_history = model_transfer.fit(np.array(train_images_resized_grayscaled), y_train_labels_cat, batch_size=64,\n",
        "          epochs=5, verbose=1, validation_split=0.3)"
      ]
    }
  ],
  "metadata": {
    "accelerator": "GPU",
    "colab": {
      "collapsed_sections": [],
      "name": "Copy of Worshop_CNN.ipynb",
      "private_outputs": true,
      "provenance": []
    },
    "kernelspec": {
      "display_name": "Python 3.9.12 ('base')",
      "language": "python",
      "name": "python3"
    },
    "language_info": {
      "codemirror_mode": {
        "name": "ipython",
        "version": 3
      },
      "file_extension": ".py",
      "mimetype": "text/x-python",
      "name": "python",
      "nbconvert_exporter": "python",
      "pygments_lexer": "ipython3",
      "version": "3.9.12"
    },
    "vscode": {
      "interpreter": {
        "hash": "b9295d325ea624e6224c6b9b6cd06c6edc89df03771a5af215dc20e2fa1ab794"
      }
    }
  },
  "nbformat": 4,
  "nbformat_minor": 5
}
