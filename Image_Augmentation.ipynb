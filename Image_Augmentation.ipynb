{
  "nbformat": 4,
  "nbformat_minor": 0,
  "metadata": {
    "colab": {
      "name": "Image Augmentation.ipynb",
      "provenance": [],
      "collapsed_sections": [],
      "authorship_tag": "ABX9TyOCW/IaC6++0tms2Pv5hb7G",
      "include_colab_link": true
    },
    "kernelspec": {
      "name": "python3",
      "display_name": "Python 3"
    },
    "language_info": {
      "name": "python"
    }
  },
  "cells": [
    {
      "cell_type": "markdown",
      "metadata": {
        "id": "view-in-github",
        "colab_type": "text"
      },
      "source": [
        "<a href=\"https://colab.research.google.com/github/Madeira-International-Workshop-in-ML/2022_day_2/blob/main/Image_Augmentation.ipynb\" target=\"_parent\"><img src=\"https://colab.research.google.com/assets/colab-badge.svg\" alt=\"Open In Colab\"/></a>"
      ]
    },
    {
      "cell_type": "code",
      "execution_count": null,
      "metadata": {
        "id": "vXj11W8xzURI"
      },
      "outputs": [],
      "source": [
        "# Importing libraries and dataset\n",
        "import numpy as np\n",
        "from keras.utils import np_utils\n",
        "from keras.datasets import fashion_mnist\n",
        "import tensorflow as tf\n",
        "import random as rd\n",
        "tf.device('gpu')\n",
        "\n",
        "(X_train, y_train), (X_test, y_test) = fashion_mnist.load_data()\n",
        "\n",
        "%matplotlib inline\n",
        "import matplotlib.pyplot as plt\n",
        "\n"
      ]
    },
    {
      "cell_type": "code",
      "source": [
        "# Showing an example of the training sample\n",
        "plt.imshow(X_train[1,:,:])\n",
        "plt.show()\n",
        "\n",
        "# Showing an example of the testing sample\n",
        "plt.imshow(X_test[1,:,:])\n",
        "plt.show()\n"
      ],
      "metadata": {
        "colab": {
          "base_uri": "https://localhost:8080/",
          "height": 513
        },
        "id": "JfaUodzhnnfd",
        "outputId": "0bd321c5-4d52-4353-fbae-9869d68aa9b9"
      },
      "execution_count": null,
      "outputs": [
        {
          "output_type": "display_data",
          "data": {
            "text/plain": [
              "<Figure size 432x288 with 1 Axes>"
            ],
            "image/png": "[encoded data removed]"
          },
          "metadata": {
            "needs_background": "light"
          }
        },
        {
          "output_type": "display_data",
          "data": {
            "text/plain": [
              "<Figure size 432x288 with 1 Axes>"
            ],
            "image/png": "[encoded data removed]"
          },
          "metadata": {
            "needs_background": "light"
          }
        }
      ]
    },
    {
      "cell_type": "code",
      "source": [
        "# converting training and testing samples to float for pixels normalization\n",
        "\n",
        "#Converting pixel values to floating points for all training and testing samples\n",
        "X_train=X_train.astype('float32')\n",
        "X_test=X_test.astype('float32')\n",
        "\n",
        "# Dividing the training and testing samples by 255 for normalization\n",
        "X_train/=255.0\n",
        "X_test/=255.0\n",
        "\n",
        "# Adding an extra dimension to feed to a 2D neural network model\n",
        "X_train = X_train.reshape(X_train.shape[0], 28, 28, 1).astype('float32')\n",
        "X_test = X_test.reshape(X_test.shape[0], 28, 28, 1).astype('float32')\n",
        "\n",
        "# Converting labels to one hot encoders\n",
        "y_train = np_utils.to_categorical(y_train, 10)\n",
        "y_test = np_utils.to_categorical(y_test, 10)"
      ],
      "metadata": {
        "id": "StU85R2tzVKv"
      },
      "execution_count": null,
      "outputs": []
    },
    {
      "cell_type": "code",
      "source": [
        "# Defining layers used in the network (convolution, maxpooling, flatten, Dense and Dropout)\n",
        "from keras.models import Sequential\n",
        "from keras.layers import Dense, Activation, Dropout, Flatten, Reshape\n",
        "from keras.layers import Convolution2D, MaxPooling2D"
      ],
      "metadata": {
        "id": "RHTWeVgNzcog"
      },
      "execution_count": null,
      "outputs": []
    },
    {
      "cell_type": "code",
      "source": [
        "#Defining the model architecture\n",
        "model = Sequential()\n",
        "model.add(Convolution2D(32, 3, 3, input_shape=(28, 28, 1)))\n",
        "model.add(Activation('relu'))\n",
        "model.add(Dropout(0.25))\n",
        "\n",
        "model.add(Convolution2D(32, 3, 3))\n",
        "model.add(Activation('relu'))\n",
        "\n",
        "model.add(Convolution2D(32, 3, 3))\n",
        "model.add(Activation('relu'))\n",
        "model.add(Dropout(0.25))\n",
        "\n",
        "model.add(Flatten())\n",
        "\n",
        "model.add(Dense(128))\n",
        "model.add(Dense(128))\n",
        "model.add(Activation('relu'))\n",
        "\n",
        "model.add(Dense(10))\n",
        "model.add(Activation('softmax'))\n",
        "\n",
        "# Model Compilation\n",
        "model.compile(loss='categorical_crossentropy', optimizer='adam', metrics=['accuracy'])\n",
        "\n",
        "# Model Training\n",
        "model.fit(X_train, y_train, batch_size=32,epochs=10,validation_data=(X_test, y_test))"
      ],
      "metadata": {
        "colab": {
          "base_uri": "https://localhost:8080/"
        },
        "id": "q2Scl71KzhYy",
        "outputId": "0339774c-d27f-4f67-c36b-b2ed509eaac7"
      },
      "execution_count": null,
      "outputs": [
        {
          "output_type": "stream",
          "name": "stdout",
          "text": [
            "Epoch 1/10\n",
            "1875/1875 [==============================] - 12s 6ms/step - loss: 0.6627 - accuracy: 0.7501 - val_loss: 0.4436 - val_accuracy: 0.8345\n",
            "Epoch 2/10\n",
            "1875/1875 [==============================] - 11s 6ms/step - loss: 0.4727 - accuracy: 0.8269 - val_loss: 0.4099 - val_accuracy: 0.8481\n",
            "Epoch 3/10\n",
            "1875/1875 [==============================] - 11s 6ms/step - loss: 0.4337 - accuracy: 0.8386 - val_loss: 0.3992 - val_accuracy: 0.8523\n",
            "Epoch 4/10\n",
            "1875/1875 [==============================] - 11s 6ms/step - loss: 0.4097 - accuracy: 0.8479 - val_loss: 0.3607 - val_accuracy: 0.8655\n",
            "Epoch 5/10\n",
            "1875/1875 [==============================] - 12s 6ms/step - loss: 0.3936 - accuracy: 0.8543 - val_loss: 0.3735 - val_accuracy: 0.8649\n",
            "Epoch 6/10\n",
            "1875/1875 [==============================] - 11s 6ms/step - loss: 0.3794 - accuracy: 0.8593 - val_loss: 0.3602 - val_accuracy: 0.8633\n",
            "Epoch 7/10\n",
            "1875/1875 [==============================] - 11s 6ms/step - loss: 0.3688 - accuracy: 0.8629 - val_loss: 0.3377 - val_accuracy: 0.8747\n",
            "Epoch 8/10\n",
            "1875/1875 [==============================] - 12s 6ms/step - loss: 0.3597 - accuracy: 0.8684 - val_loss: 0.3432 - val_accuracy: 0.8744\n",
            "Epoch 9/10\n",
            "1875/1875 [==============================] - 11s 6ms/step - loss: 0.3498 - accuracy: 0.8709 - val_loss: 0.3452 - val_accuracy: 0.8698\n",
            "Epoch 10/10\n",
            "1875/1875 [==============================] - 11s 6ms/step - loss: 0.3432 - accuracy: 0.8740 - val_loss: 0.3335 - val_accuracy: 0.8797\n"
          ]
        },
        {
          "output_type": "execute_result",
          "data": {
            "text/plain": [
              "<keras.callbacks.History at 0x7fa13a7427d0>"
            ]
          },
          "metadata": {},
          "execution_count": 60
        }
      ]
    },
    {
      "cell_type": "code",
      "source": [
        "print('Test accuracy:', model.evaluate(X_test, y_test))"
      ],
      "metadata": {
        "colab": {
          "base_uri": "https://localhost:8080/"
        },
        "id": "Ick1RPYXzlcX",
        "outputId": "22bdba2c-e6fb-4bd2-b335-1693061e3098"
      },
      "execution_count": null,
      "outputs": [
        {
          "output_type": "stream",
          "name": "stdout",
          "text": [
            "313/313 [==============================] - 1s 2ms/step - loss: 0.3335 - accuracy: 0.8797\n",
            "Test accuracy: [0.33348116278648376, 0.8797000050544739]\n"
          ]
        }
      ]
    },
    {
      "cell_type": "markdown",
      "source": [
        "** Model Training and Testing with Image Augmentation**"
      ],
      "metadata": {
        "id": "OJZsWTj7r3L7"
      }
    },
    {
      "cell_type": "code",
      "source": [
        "# Image Generators for image augmentations. For this particular example, we have used image rotation, horizontal and vertical flip along with width and height shift range\n",
        "from keras.preprocessing.image import ImageDataGenerator\n",
        "\n",
        "#Data Augmentation\n",
        "datagen = ImageDataGenerator(\n",
        "    \n",
        "    featurewise_center=False,  \n",
        "    samplewise_center=False, \n",
        "    featurewise_std_normalization=False,\n",
        "    samplewise_std_normalization=False,  \n",
        "    zca_whitening=False,\n",
        "    rotation_range=50,\n",
        "    width_shift_range=0.01, \n",
        "    height_shift_range=0.01, \n",
        "    horizontal_flip=True, \n",
        "    vertical_flip=True)\n",
        "\n",
        "# Model Training with augmentation\n",
        "datagen.fit(X_train)\n",
        "\n",
        "# Showing an example of the augmented data (Rotated image)\n",
        "gen = datagen.flow(X_train, batch_size=1)\n",
        "plt.imshow(gen.next().squeeze())\n",
        "plt.show()\n"
      ],
      "metadata": {
        "colab": {
          "base_uri": "https://localhost:8080/",
          "height": 265
        },
        "id": "NDfmJytn0YDs",
        "outputId": "d59d0f07-e4db-4dde-ffc4-999c7feab797"
      },
      "execution_count": null,
      "outputs": [
        {
          "output_type": "display_data",
          "data": {
            "text/plain": [
              "<Figure size 432x288 with 1 Axes>"
            ],
            "image/png": "[encoded data removed]"
          },
          "metadata": {
            "needs_background": "light"
          }
        }
      ]
    },
    {
      "cell_type": "code",
      "source": [
        "model.fit(X_train, y_train, batch_size=32,epochs=10, validation_data=(X_test, y_test))"
      ],
      "metadata": {
        "colab": {
          "base_uri": "https://localhost:8080/"
        },
        "id": "4diV-Dux0iAs",
        "outputId": "7c8971cf-fbdc-4708-c741-f9c5edcad07c"
      },
      "execution_count": null,
      "outputs": [
        {
          "output_type": "stream",
          "name": "stdout",
          "text": [
            "Epoch 1/10\n",
            "1875/1875 [==============================] - 12s 6ms/step - loss: 0.2956 - accuracy: 0.8906 - val_loss: 0.3076 - val_accuracy: 0.8893\n",
            "Epoch 2/10\n",
            "1875/1875 [==============================] - 12s 6ms/step - loss: 0.2959 - accuracy: 0.8912 - val_loss: 0.3201 - val_accuracy: 0.8830\n",
            "Epoch 3/10\n",
            "1875/1875 [==============================] - 13s 7ms/step - loss: 0.2944 - accuracy: 0.8921 - val_loss: 0.3071 - val_accuracy: 0.8896\n",
            "Epoch 4/10\n",
            "1875/1875 [==============================] - 12s 7ms/step - loss: 0.2938 - accuracy: 0.8929 - val_loss: 0.2978 - val_accuracy: 0.8929\n",
            "Epoch 5/10\n",
            "1875/1875 [==============================] - 12s 7ms/step - loss: 0.2901 - accuracy: 0.8937 - val_loss: 0.3104 - val_accuracy: 0.8869\n",
            "Epoch 6/10\n",
            "1875/1875 [==============================] - 12s 6ms/step - loss: 0.2887 - accuracy: 0.8935 - val_loss: 0.3044 - val_accuracy: 0.8879\n",
            "Epoch 7/10\n",
            "1875/1875 [==============================] - 12s 6ms/step - loss: 0.2836 - accuracy: 0.8966 - val_loss: 0.2965 - val_accuracy: 0.8906\n",
            "Epoch 8/10\n",
            "1875/1875 [==============================] - 11s 6ms/step - loss: 0.2852 - accuracy: 0.8953 - val_loss: 0.2922 - val_accuracy: 0.8966\n",
            "Epoch 9/10\n",
            "1875/1875 [==============================] - 12s 6ms/step - loss: 0.2827 - accuracy: 0.8965 - val_loss: 0.3179 - val_accuracy: 0.8843\n",
            "Epoch 10/10\n",
            "1875/1875 [==============================] - 12s 7ms/step - loss: 0.2810 - accuracy: 0.8981 - val_loss: 0.2990 - val_accuracy: 0.8967\n"
          ]
        },
        {
          "output_type": "execute_result",
          "data": {
            "text/plain": [
              "<keras.callbacks.History at 0x7fa13a5b8090>"
            ]
          },
          "metadata": {},
          "execution_count": 66
        }
      ]
    },
    {
      "cell_type": "code",
      "source": [
        "print('Test accuracy:', model.evaluate(X_test, y_test))"
      ],
      "metadata": {
        "colab": {
          "base_uri": "https://localhost:8080/"
        },
        "id": "rya8MVNk0mRx",
        "outputId": "5ae6214f-f72c-493d-ac5f-e1f6dbc6adad"
      },
      "execution_count": null,
      "outputs": [
        {
          "output_type": "stream",
          "name": "stdout",
          "text": [
            "313/313 [==============================] - 1s 2ms/step - loss: 0.3119 - accuracy: 0.8858\n",
            "Test accuracy: [0.31192725896835327, 0.8858000040054321]\n"
          ]
        }
      ]
    }
  ]
}